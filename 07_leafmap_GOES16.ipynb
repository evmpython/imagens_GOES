{
 "cells": [
  {
   "cell_type": "markdown",
   "id": "4a3e3747-bbeb-4327-b558-2d9878d46b80",
   "metadata": {
    "jp-MarkdownHeadingCollapsed": true
   },
   "source": [
    "## Define funções"
   ]
  },
  {
   "cell_type": "code",
   "execution_count": 1,
   "id": "d38de83f-c40d-4681-9be5-f325d0dcacad",
   "metadata": {},
   "outputs": [],
   "source": [
    "def download_GOES16_ch13(url, filename):\n",
    "    import requests\n",
    "    import warnings\n",
    "    warnings.filterwarnings(\"ignore\")\n",
    "    url_filename = f'{url}{filename}'\n",
    "    myfile = requests.get(url_filename, verify=False)\n",
    "    open(f'{filename}', 'wb').write(myfile.content)\n",
    "    return\n",
    "\n",
    "def netcdf_to_tif(file_netcdf):\n",
    "    \n",
    "    # leitura do arquivo NETCDF\n",
    "    nc_file = xr.open_dataset(file_netcdf)\n",
    "\n",
    "    # extração da variável de interesse\n",
    "    temp_ir = nc_file['Band1']\n",
    "\n",
    "    # transforma de Kelvin para Celsius\n",
    "    temp_ir = (temp_ir/100.0)-273.15\n",
    "\n",
    "    # dimensões\n",
    "    temp_ir = temp_ir.rio.set_spatial_dims(x_dim='lon', y_dim='lat')\n",
    "    temp_ir.rio.crs\n",
    "\n",
    "    # define a projeção CRS\n",
    "    temp_ir.rio.write_crs('epsg: 4326', inplace=True)\n",
    "\n",
    "    # salva arquivo\n",
    "    temp_ir.rio.to_raster(f'{file_tif}.tiff')\n",
    "\n",
    "    return"
   ]
  },
  {
   "cell_type": "markdown",
   "id": "c01b8677-69bc-4f02-8e2e-3914d1b29e79",
   "metadata": {
    "jp-MarkdownHeadingCollapsed": true
   },
   "source": [
    "## Baixa o arquivo netcdf e transforma para tif"
   ]
  },
  {
   "cell_type": "code",
   "execution_count": 2,
   "id": "26e1e4e0-6ee9-4617-859f-d4ef620176ba",
   "metadata": {},
   "outputs": [],
   "source": [
    "# importa biblioteca\n",
    "import xarray as xr\n",
    "import leafmap\n",
    "import rasterio\n",
    "import rioxarray\n",
    "import xarray as xr\n",
    "\n",
    "# Define a data\n",
    "ano, mes, dia, hor, min = '2024', '05', '02', '04', '00'\n",
    "\n",
    "# baixando o arquivo NETCDF\n",
    "url = f'https://ftp.cptec.inpe.br/goes/goes16/retangular/ch13/{ano}/{mes}/'\n",
    "file_netcdf = f'S10635346_{ano}{mes}{dia}{hor}{min}.nc'\n",
    "file_tif = f'S10635346_{ano}{mes}{dia}{hor}{min}'\n",
    "download_GOES16_ch13(url, file_netcdf)\n",
    "\n",
    "# transforma para TIF\n",
    "netcdf_to_tif(file_netcdf)"
   ]
  },
  {
   "cell_type": "markdown",
   "id": "913d3473-c984-4264-ae6e-d3b1a1996d7c",
   "metadata": {},
   "source": [
    "## Plota mapa"
   ]
  },
  {
   "cell_type": "code",
   "execution_count": 5,
   "id": "c28e4a4a-a12b-4fba-aed5-2cef41769b1a",
   "metadata": {},
   "outputs": [
    {
     "data": {
      "application/vnd.jupyter.widget-view+json": {
       "model_id": "1abe648a0f814aab98227bdd0d30ec85",
       "version_major": 2,
       "version_minor": 0
      },
      "text/plain": [
       "Map(center=[20, 0], controls=(ZoomControl(options=['position', 'zoom_in_text', 'zoom_in_title', 'zoom_out_text…"
      ]
     },
     "execution_count": 5,
     "metadata": {},
     "output_type": "execute_result"
    }
   ],
   "source": [
    "# define mapa\n",
    "Map = leafmap.Map(layers_control=True, zoom=5)\n",
    "\n",
    "# shapefiles\n",
    "shp_paises = \"https://raw.githubusercontent.com/opengeos/leafmap/master/examples/data/countries.geojson\"\n",
    "Map.add_geojson(shp_paises, layer_name=\"Paises\", style = {\"stroke\": True,\n",
    "                                                          \"color\": 'black',\n",
    "                                                          \"weight\": 1.0,\n",
    "                                                          \"opacity\": 0.5,\n",
    "                                                          \"fill\": False,\n",
    "                                                          \"fillColor\": \"#3388ff\",\n",
    "                                                          \"fillOpacity\": 0.1})\n",
    "\n",
    "shp_estados_brasil = 'https://github.com/codeforgermany/click_that_hood/blob/main/public/data/brazil-states.geojson'\n",
    "Map.add_geojson(shp_estados_brasil, layer_name=\"Estados Brasileiros\", style = {\"stroke\": True,\n",
    "                                                                               \"color\": 'black',\n",
    "                                                                               \"weight\": 1.7,\n",
    "                                                                               \"opacity\": 0.5,\n",
    "                                                                               \"fill\": False,\n",
    "                                                                               \"fillColor\": \"#3388ff\",\n",
    "                                                                               \"fillOpacity\": 0.1})\n",
    "# plota mapa\n",
    "vmin, vmax = -103.0, 105\n",
    "Map.add_raster(f'{file_tif}.tiff', \n",
    "               indexes=[1], \n",
    "               vmin=vmin, \n",
    "               vmax=vmax,\n",
    "               colormap=\"gray_r\", \n",
    "               layer_name=\"Temperatura de Brilho CH13\")\n",
    "\n",
    "# plota texto \n",
    "text = f'GOES16 CH13: {ano}-{mes}-{dia} às {hor}{min} UTC'\n",
    "params = {\"fontsize\": 20,\n",
    "          \"fontcolor\": \"blue\",\n",
    "          \"bold\": True,\n",
    "          \"padding\": \"2px\",\n",
    "          \"background\": True,\n",
    "          \"bg_color\": \"white\",\n",
    "          \"border_radius\": \"5px\",\n",
    "          \"position\": \"topleft\"}\n",
    "Map.add_text(text, **params)\n",
    "\n",
    "# barra de cores\n",
    "Map.add_colormap(cmap=\"gray_r\",\n",
    "                 discrete=True, \n",
    "                 label='Temperatura de Brilho ($^o$C)',\n",
    "                 font_size=8,\n",
    "                 transparent_bg=True, \n",
    "                 position='bottomright',\n",
    "                 width=3, height=0.4,\n",
    "                 vmin=vmin, \n",
    "                 vmax=vmax)\n",
    "\n",
    "# exibe o mapa\n",
    "Map"
   ]
  },
  {
   "cell_type": "code",
   "execution_count": 6,
   "id": "ebc9b1ba-3d8c-4fd1-b78c-313d827f13b4",
   "metadata": {},
   "outputs": [],
   "source": [
    "# salva imagem para HTML\n",
    "Map.to_html(f\"map_goes16_{ano}{mes}{dia}_{hor}{min}.html\")"
   ]
  }
 ],
 "metadata": {
  "kernelspec": {
   "display_name": "Python 3 (ipykernel)",
   "language": "python",
   "name": "python3"
  },
  "language_info": {
   "codemirror_mode": {
    "name": "ipython",
    "version": 3
   },
   "file_extension": ".py",
   "mimetype": "text/x-python",
   "name": "python",
   "nbconvert_exporter": "python",
   "pygments_lexer": "ipython3",
   "version": "3.12.4"
  }
 },
 "nbformat": 4,
 "nbformat_minor": 5
}
