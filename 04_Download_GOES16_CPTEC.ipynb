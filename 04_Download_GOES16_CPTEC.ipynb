{
  "nbformat": 4,
  "nbformat_minor": 0,
  "metadata": {
    "colab": {
      "provenance": [],
      "collapsed_sections": [
        "TqxlOwMVpp86",
        "sTPO5t6I9zCX",
        "m-O-wsC2o2PH"
      ]
    },
    "kernelspec": {
      "name": "python3",
      "display_name": "Python 3"
    },
    "language_info": {
      "name": "python"
    }
  },
  "cells": [
    {
      "cell_type": "markdown",
      "source": [
        "---\n",
        "\n",
        "# **Download dos dados do satélite GOES-16**\n",
        "\n",
        "\n",
        "---\n",
        "\n",
        "\n",
        "**OBJETIVO:** Este Colab tem como objetivo baixar os dados de temperatura de brilho do canal ABI do satélite [GOES-16](http://ftp.cptec.inpe.br/goes/goes16/retangular/) fornecido pelo [CPTEC](https://www.cptec.inpe.br).  \n",
        "\n",
        "\n",
        "---\n",
        "\n",
        "\n",
        "**DADOS QUE PODEM SER BAIXADOS**:\n",
        "\n",
        "1.   Arquivos a cada 10 min do sensor ABI do satélite GOES-16. O usuário poderá baixar os dados dos canais infravermelho, visível e vapor d'água:\n",
        "    - Exemplos:  \n",
        "        1. Vísivel (ch02): **S10635334_202202010030.nc**\n",
        "        2. Vapor d'água (ch08): **S10635340_202202010030.nc**\n",
        "        3. Infravermelho (ch13): **S10635346_202202010030.nc**\n",
        "---\n",
        "\n",
        "**PROCEDIMENTO REALIZADO:** Os seguintes procedimentos são realizados nesse código:\n",
        "1.   Importação das bibliotecas\n",
        "2.   Monta o drive\n",
        "2.   São realizados os seguintes passos:\n",
        "     1. Define o intervalo de datas (**fazer mudanças aqui**)\n",
        "     2. Define as informações de entrada\n",
        "     3. Realiza o download dos dados\n",
        "\n",
        "\n",
        "---\n",
        "**OBSERVAÇÕES IMPORTANTES**:\n",
        "1. Definir a data e tipo de dado no campo\n",
        "2. Alterar o nome (**dir_output**) do diretório de saída dos dados\n",
        "\n",
        "\n",
        "---\n",
        "- **Realizado por:** Enrique V. Mattos - 01/03/2022\n",
        "- **Atualizado por:** Enrique V. Mattos - 05/07/2023\n",
        "\n",
        "\n",
        "---\n",
        "\n"
      ],
      "metadata": {
        "id": "h5K2NuXK8tSg"
      }
    },
    {
      "cell_type": "markdown",
      "source": [
        "# **1° Passo:** Importando as bibliotecas"
      ],
      "metadata": {
        "id": "TqxlOwMVpp86"
      }
    },
    {
      "cell_type": "code",
      "execution_count": 1,
      "metadata": {
        "id": "3L8IX6rJogdT"
      },
      "outputs": [],
      "source": [
        "import os\n",
        "import time as t\n",
        "from datetime import datetime, timedelta\n",
        "import pandas as pd"
      ]
    },
    {
      "cell_type": "markdown",
      "source": [
        "# **2° Passo:** Montando drive"
      ],
      "metadata": {
        "id": "sTPO5t6I9zCX"
      }
    },
    {
      "cell_type": "code",
      "source": [
        "from google.colab import drive\n",
        "drive.mount('/content/drive')"
      ],
      "metadata": {
        "colab": {
          "base_uri": "https://localhost:8080/"
        },
        "id": "7ZnF44Iu9zIV",
        "outputId": "12b44d80-6a59-4070-b75d-67a61c5b39af"
      },
      "execution_count": 2,
      "outputs": [
        {
          "output_type": "stream",
          "name": "stdout",
          "text": [
            "Mounted at /content/drive\n"
          ]
        }
      ]
    },
    {
      "cell_type": "markdown",
      "source": [
        "# **PARTE 1)**: BAIXAR DADOS GOES-16 - \"S10635346_202202010030.nc\""
      ],
      "metadata": {
        "id": "m-O-wsC2o2PH"
      }
    },
    {
      "cell_type": "markdown",
      "source": [
        "- **>>> ALTERAÇÕES AQUI <<<**: Insira as informações necessárias"
      ],
      "metadata": {
        "id": "szX46lrmt9Fc"
      }
    },
    {
      "cell_type": "code",
      "source": [
        "# caminho de saída: insira aqui o caminho da pasta para salvar os dados\n",
        "dir_output = '/content/drive/MyDrive/PYHTON/00_GITHUB/4_SATELITE/output/'\n",
        "\n",
        "# Ecolha a data inicial e final\n",
        "anoi, mesi, diai, hori, mini = 2022, 2, 2, 0, 0   # ano, mês e dia inicial do período 2022-02-02 00:00\n",
        "anof, mesf, diaf, horf, minf = 2022, 2, 2, 0, 20  # ano, mês e dia final do período 2022-02-02 23:50\n",
        "\n",
        "# Escolha o canal: ch02-visivel, ch08-vapor d'água, ch13-infravermelho\n",
        "canal = 'ch08'"
      ],
      "metadata": {
        "id": "QG5avcnWuAlG"
      },
      "execution_count": 14,
      "outputs": []
    },
    {
      "cell_type": "markdown",
      "source": [
        "- **Informações de entrada**"
      ],
      "metadata": {
        "id": "8YX1GGEWtmw9"
      }
    },
    {
      "cell_type": "code",
      "source": [
        "# encontra a sigla do canal\n",
        "if canal == 'ch02':\n",
        "   codigo = 'S10635334'\n",
        "elif canal == 'ch08':\n",
        "   codigo = 'S10635340'\n",
        "elif canal == 'ch13':\n",
        "   codigo = 'S10635346'\n",
        "\n",
        "# informações sobre os dados\n",
        "url_cptec = 'http://ftp.cptec.inpe.br/'\n",
        "diretorio = f'goes/goes16/retangular/{canal}/'\n",
        "extensao = 'nc'"
      ],
      "metadata": {
        "id": "TsOS9DDvo5DW"
      },
      "execution_count": 15,
      "outputs": []
    },
    {
      "cell_type": "markdown",
      "source": [
        "- **Download dos dados**"
      ],
      "metadata": {
        "id": "syMGpLDftsBJ"
      }
    },
    {
      "cell_type": "code",
      "source": [
        "# Inicia o contador de tempo\n",
        "start_time = t.time()\n",
        "\n",
        "# Data desejada\n",
        "date_in = datetime(anoi, mesi, diai, hori, mini)  # 2022-02-02 00:00:00\n",
        "date_ini = date_in.strftime('%Y%m%d%H%M') # 20220202\n",
        "\n",
        "date_en = datetime(anof, mesf, diaf, horf, minf)\n",
        "date_end = date_en.strftime('%Y%m%d%H%M')\n",
        "\n",
        "print('.... Processando Data ...:', date_ini, date_end)\n",
        "\n",
        "# Download dos dados\n",
        "for file in pd.date_range(date_ini, date_end, freq='10min'):\n",
        "\n",
        "    # Extrai ano e mes\n",
        "    data = file.strftime('%Y%m%d%H%M')\n",
        "    ano = file.strftime('%Y')\n",
        "    mes = file.strftime('%m')\n",
        "\n",
        "    # nome do arquivo\n",
        "    filename = f'{codigo}_{data}.{extensao}'\n",
        "    filename_total = os.path.join(url_cptec, diretorio, ano, mes, filename)\n",
        "\n",
        "    print('\\n---------------------')\n",
        "    print('Downloading FTP File:')\n",
        "    print('---------------------')\n",
        "    print('Model:GOES / Canal:' + canal)\n",
        "    print('File:' + filename_total)\n",
        "    print('---------------------')\n",
        "\n",
        "    !wget -c {filename_total} -P {dir_output}\n",
        "\n",
        "# Contabiliza o tempo para baixar os dados\n",
        "print('\\nTempo de download dos dados:', round((t.time() - start_time),2), 'segundos.')"
      ],
      "metadata": {
        "colab": {
          "base_uri": "https://localhost:8080/"
        },
        "id": "Uh3_sol3o85W",
        "outputId": "44f37332-3927-434e-973d-7a870fc9c630"
      },
      "execution_count": 7,
      "outputs": [
        {
          "output_type": "stream",
          "name": "stdout",
          "text": [
            ".... Processando Data ...: 202202020000 202202020020\n",
            "\n",
            "---------------------\n",
            "Downloading FTP File:\n",
            "---------------------\n",
            "Model:GOES / Canal:ch08\n",
            "File:http://ftp.cptec.inpe.br/goes/goes16/retangular/ch08/2022/02/S10635340_202202020000.nc\n",
            "---------------------\n",
            "--2023-07-05 17:05:40--  http://ftp.cptec.inpe.br/goes/goes16/retangular/ch08/2022/02/S10635340_202202020000.nc\n",
            "Resolving ftp.cptec.inpe.br (ftp.cptec.inpe.br)... 150.163.141.22\n",
            "Connecting to ftp.cptec.inpe.br (ftp.cptec.inpe.br)|150.163.141.22|:80... connected.\n",
            "HTTP request sent, awaiting response... 200 OK\n",
            "Length: 10513148 (10M) [application/x-netcdf]\n",
            "Saving to: ‘/content/drive/MyDrive/PYHTON/00_GITHUB/4_SATELITE/output/S10635340_202202020000.nc’\n",
            "\n",
            "S10635340_202202020 100%[===================>]  10.03M   122KB/s    in 56s     \n",
            "\n",
            "2023-07-05 17:06:37 (185 KB/s) - ‘/content/drive/MyDrive/PYHTON/00_GITHUB/4_SATELITE/output/S10635340_202202020000.nc’ saved [10513148/10513148]\n",
            "\n",
            "\n",
            "---------------------\n",
            "Downloading FTP File:\n",
            "---------------------\n",
            "Model:GOES / Canal:ch08\n",
            "File:http://ftp.cptec.inpe.br/goes/goes16/retangular/ch08/2022/02/S10635340_202202020010.nc\n",
            "---------------------\n",
            "--2023-07-05 17:06:37--  http://ftp.cptec.inpe.br/goes/goes16/retangular/ch08/2022/02/S10635340_202202020010.nc\n",
            "Resolving ftp.cptec.inpe.br (ftp.cptec.inpe.br)... 150.163.141.22\n",
            "Connecting to ftp.cptec.inpe.br (ftp.cptec.inpe.br)|150.163.141.22|:80... connected.\n",
            "HTTP request sent, awaiting response... 200 OK\n",
            "Length: 10501816 (10M) [application/x-netcdf]\n",
            "Saving to: ‘/content/drive/MyDrive/PYHTON/00_GITHUB/4_SATELITE/output/S10635340_202202020010.nc’\n",
            "\n",
            "S10635340_202202020 100%[===================>]  10.01M   136KB/s    in 74s     \n",
            "\n",
            "2023-07-05 17:07:53 (138 KB/s) - ‘/content/drive/MyDrive/PYHTON/00_GITHUB/4_SATELITE/output/S10635340_202202020010.nc’ saved [10501816/10501816]\n",
            "\n",
            "\n",
            "---------------------\n",
            "Downloading FTP File:\n",
            "---------------------\n",
            "Model:GOES / Canal:ch08\n",
            "File:http://ftp.cptec.inpe.br/goes/goes16/retangular/ch08/2022/02/S10635340_202202020020.nc\n",
            "---------------------\n",
            "--2023-07-05 17:07:53--  http://ftp.cptec.inpe.br/goes/goes16/retangular/ch08/2022/02/S10635340_202202020020.nc\n",
            "Resolving ftp.cptec.inpe.br (ftp.cptec.inpe.br)... 150.163.141.22\n",
            "Connecting to ftp.cptec.inpe.br (ftp.cptec.inpe.br)|150.163.141.22|:80... connected.\n",
            "HTTP request sent, awaiting response... 200 OK\n",
            "Length: 10491559 (10M) [application/x-netcdf]\n",
            "Saving to: ‘/content/drive/MyDrive/PYHTON/00_GITHUB/4_SATELITE/output/S10635340_202202020020.nc’\n",
            "\n",
            "S10635340_202202020 100%[===================>]  10.00M   145KB/s    in 62s     \n",
            "\n",
            "2023-07-05 17:08:56 (165 KB/s) - ‘/content/drive/MyDrive/PYHTON/00_GITHUB/4_SATELITE/output/S10635340_202202020020.nc’ saved [10491559/10491559]\n",
            "\n",
            "\n",
            "Tempo de download dos dados: 195.86 segundos.\n"
          ]
        }
      ]
    }
  ]
}